{
 "cells": [
  {
   "cell_type": "markdown",
   "metadata": {},
   "source": [
    "# Iris Data Set - Quantum Neural Network\n",
    "\n",
    "This notebook will showcase the usage of Tensorflow and Cirq to run binary classification with Quantum Computing. \n",
    "The data set used in this notebook is Iris Data Set.\n",
    "\n",
    "## Requirements\n",
    "\n",
    "The requirements for running this notebook are the following:\n",
    "\n",
    "* Python 3.6 or later\n",
    "* Cirq\n",
    "* Tensorflow\n",
    "* Tensorflow-Quantum\n",
    "* Pandas\n",
    "\n",
    "\n",
    "\n",
    "```\n",
    "    pip install cirq\n",
    "    pip install -q tensorflow==2.1.0\n",
    "    pip install tensorflow-quantum\n",
    "    pip install pandas\n",
    "    pip install -U scikit-learn\n",
    "```\n",
    "\n",
    "\n",
    "\n",
    "## Iris Data Set \n",
    "\n",
    "For testing Tensorflow + Cirq we'll run a version of the [MNIST] experiment by Google. \n",
    "In this experiment, a similar approach than [Farhi et al] is executed over the MNIST data set. \n",
    "\n",
    "For our personal experiment we'll perform a classical classification problem: The [Iris Data Set].\n",
    "\n",
    "This data set contains 4 features:\n",
    "* Sepal length in cm\n",
    "* Sepal width in cm\n",
    "* Petal length in cm\n",
    "* Petal width in cm\n",
    "\n",
    "In order to simplify the problem, we'll transform this problem in a binary classification for Iris Setosa.\n",
    "\n",
    "\n",
    "\n",
    "   [MNIST]: https://www.tensorflow.org/quantum/tutorials/mnist\n",
    "   [Farhi et al]: https://arxiv.org/pdf/1802.06002.pdf\n",
    "   [Iris Data Set]: https://archive.ics.uci.edu/ml/datasets/iris\n",
    "   [Tensorflow]: https://www.tensorflow.org/"
   ]
  },
  {
   "cell_type": "markdown",
   "metadata": {},
   "source": [
    "## Step 1. Ingestion of data set\n"
   ]
  },
  {
   "cell_type": "code",
   "execution_count": 1,
   "metadata": {},
   "outputs": [],
   "source": [
    "# Libraries needed :\n",
    "# 1. Pandas for data manipulation\n",
    "\n",
    "import pandas as pd\n",
    "\n",
    "# 2. SKLearn for data processing and training/test sets splitting.\n",
    "\n",
    "from sklearn import preprocessing\n",
    "from sklearn.model_selection import train_test_split\n",
    "\n",
    "# 3. Cirq Libraries and SVGCircuit to show the circuits.\n",
    "\n",
    "import cirq\n",
    "from cirq.contrib.svg import SVGCircuit\n",
    "\n",
    "# 4. Numpy to work with arrays of binary features\n",
    "\n",
    "import numpy as np\n",
    "\n",
    "# 5. Tensorflow and Tensorflow Quantum for the neural networks\n",
    "\n",
    "import tensorflow as tf\n",
    "import tensorflow_quantum as tfq\n",
    "\n",
    "# 6. Sympy is a Python library for symbolic mathematics\n",
    "\n",
    "import sympy"
   ]
  },
  {
   "cell_type": "code",
   "execution_count": 2,
   "metadata": {},
   "outputs": [],
   "source": [
    "# File with our data set\n",
    "data='data/iris_data.csv'\n",
    "\n",
    "# Headers for the iris_data provided in iris.names: \n",
    "# Sepal Length, Sepal Width, Petal Length, Petal Width, Type of Iris\n",
    "headers=[\"sl\",\"sw\",\"pl\",\"pw\",\"iris\"]"
   ]
  },
  {
   "cell_type": "code",
   "execution_count": 3,
   "metadata": {},
   "outputs": [],
   "source": [
    "iris_data=pd.read_csv(data, names=headers)"
   ]
  },
  {
   "cell_type": "code",
   "execution_count": 4,
   "metadata": {},
   "outputs": [
    {
     "data": {
      "text/html": [
       "<div>\n",
       "<style scoped>\n",
       "    .dataframe tbody tr th:only-of-type {\n",
       "        vertical-align: middle;\n",
       "    }\n",
       "\n",
       "    .dataframe tbody tr th {\n",
       "        vertical-align: top;\n",
       "    }\n",
       "\n",
       "    .dataframe thead th {\n",
       "        text-align: right;\n",
       "    }\n",
       "</style>\n",
       "<table border=\"1\" class=\"dataframe\">\n",
       "  <thead>\n",
       "    <tr style=\"text-align: right;\">\n",
       "      <th></th>\n",
       "      <th>sl</th>\n",
       "      <th>sw</th>\n",
       "      <th>pl</th>\n",
       "      <th>pw</th>\n",
       "      <th>iris</th>\n",
       "    </tr>\n",
       "  </thead>\n",
       "  <tbody>\n",
       "    <tr>\n",
       "      <th>0</th>\n",
       "      <td>5.1</td>\n",
       "      <td>3.5</td>\n",
       "      <td>1.4</td>\n",
       "      <td>0.2</td>\n",
       "      <td>Iris-setosa</td>\n",
       "    </tr>\n",
       "    <tr>\n",
       "      <th>1</th>\n",
       "      <td>4.9</td>\n",
       "      <td>3.0</td>\n",
       "      <td>1.4</td>\n",
       "      <td>0.2</td>\n",
       "      <td>Iris-setosa</td>\n",
       "    </tr>\n",
       "    <tr>\n",
       "      <th>2</th>\n",
       "      <td>4.7</td>\n",
       "      <td>3.2</td>\n",
       "      <td>1.3</td>\n",
       "      <td>0.2</td>\n",
       "      <td>Iris-setosa</td>\n",
       "    </tr>\n",
       "    <tr>\n",
       "      <th>3</th>\n",
       "      <td>4.6</td>\n",
       "      <td>3.1</td>\n",
       "      <td>1.5</td>\n",
       "      <td>0.2</td>\n",
       "      <td>Iris-setosa</td>\n",
       "    </tr>\n",
       "    <tr>\n",
       "      <th>4</th>\n",
       "      <td>5.0</td>\n",
       "      <td>3.6</td>\n",
       "      <td>1.4</td>\n",
       "      <td>0.2</td>\n",
       "      <td>Iris-setosa</td>\n",
       "    </tr>\n",
       "  </tbody>\n",
       "</table>\n",
       "</div>"
      ],
      "text/plain": [
       "    sl   sw   pl   pw         iris\n",
       "0  5.1  3.5  1.4  0.2  Iris-setosa\n",
       "1  4.9  3.0  1.4  0.2  Iris-setosa\n",
       "2  4.7  3.2  1.3  0.2  Iris-setosa\n",
       "3  4.6  3.1  1.5  0.2  Iris-setosa\n",
       "4  5.0  3.6  1.4  0.2  Iris-setosa"
      ]
     },
     "execution_count": 4,
     "metadata": {},
     "output_type": "execute_result"
    }
   ],
   "source": [
    "iris_data.head()"
   ]
  },
  {
   "cell_type": "markdown",
   "metadata": {},
   "source": [
    "## Step 2. Process the data \n",
    "Transform the data to a binary classification problem. \n",
    "To do this, We'll transform the class into Iris-Setosa and Non Iris-Setosa. "
   ]
  },
  {
   "cell_type": "code",
   "execution_count": 5,
   "metadata": {},
   "outputs": [],
   "source": [
    "iris_data[\"iris_setosa\"]=iris_data[\"iris\"]==\"Iris-setosa\""
   ]
  },
  {
   "cell_type": "code",
   "execution_count": 6,
   "metadata": {},
   "outputs": [
    {
     "data": {
      "text/html": [
       "<div>\n",
       "<style scoped>\n",
       "    .dataframe tbody tr th:only-of-type {\n",
       "        vertical-align: middle;\n",
       "    }\n",
       "\n",
       "    .dataframe tbody tr th {\n",
       "        vertical-align: top;\n",
       "    }\n",
       "\n",
       "    .dataframe thead th {\n",
       "        text-align: right;\n",
       "    }\n",
       "</style>\n",
       "<table border=\"1\" class=\"dataframe\">\n",
       "  <thead>\n",
       "    <tr style=\"text-align: right;\">\n",
       "      <th></th>\n",
       "      <th>sl</th>\n",
       "      <th>sw</th>\n",
       "      <th>pl</th>\n",
       "      <th>pw</th>\n",
       "      <th>iris</th>\n",
       "      <th>iris_setosa</th>\n",
       "    </tr>\n",
       "  </thead>\n",
       "  <tbody>\n",
       "    <tr>\n",
       "      <th>0</th>\n",
       "      <td>5.1</td>\n",
       "      <td>3.5</td>\n",
       "      <td>1.4</td>\n",
       "      <td>0.2</td>\n",
       "      <td>Iris-setosa</td>\n",
       "      <td>True</td>\n",
       "    </tr>\n",
       "    <tr>\n",
       "      <th>1</th>\n",
       "      <td>4.9</td>\n",
       "      <td>3.0</td>\n",
       "      <td>1.4</td>\n",
       "      <td>0.2</td>\n",
       "      <td>Iris-setosa</td>\n",
       "      <td>True</td>\n",
       "    </tr>\n",
       "    <tr>\n",
       "      <th>2</th>\n",
       "      <td>4.7</td>\n",
       "      <td>3.2</td>\n",
       "      <td>1.3</td>\n",
       "      <td>0.2</td>\n",
       "      <td>Iris-setosa</td>\n",
       "      <td>True</td>\n",
       "    </tr>\n",
       "    <tr>\n",
       "      <th>3</th>\n",
       "      <td>4.6</td>\n",
       "      <td>3.1</td>\n",
       "      <td>1.5</td>\n",
       "      <td>0.2</td>\n",
       "      <td>Iris-setosa</td>\n",
       "      <td>True</td>\n",
       "    </tr>\n",
       "    <tr>\n",
       "      <th>4</th>\n",
       "      <td>5.0</td>\n",
       "      <td>3.6</td>\n",
       "      <td>1.4</td>\n",
       "      <td>0.2</td>\n",
       "      <td>Iris-setosa</td>\n",
       "      <td>True</td>\n",
       "    </tr>\n",
       "  </tbody>\n",
       "</table>\n",
       "</div>"
      ],
      "text/plain": [
       "    sl   sw   pl   pw         iris  iris_setosa\n",
       "0  5.1  3.5  1.4  0.2  Iris-setosa         True\n",
       "1  4.9  3.0  1.4  0.2  Iris-setosa         True\n",
       "2  4.7  3.2  1.3  0.2  Iris-setosa         True\n",
       "3  4.6  3.1  1.5  0.2  Iris-setosa         True\n",
       "4  5.0  3.6  1.4  0.2  Iris-setosa         True"
      ]
     },
     "execution_count": 6,
     "metadata": {},
     "output_type": "execute_result"
    }
   ],
   "source": [
    "# Now we have a new column with the boolean depending if the flower is an Iris Setosa or not.\n",
    "iris_data.head()"
   ]
  },
  {
   "cell_type": "code",
   "execution_count": 7,
   "metadata": {},
   "outputs": [
    {
     "data": {
      "text/plain": [
       "False    100\n",
       "True      50\n",
       "Name: iris_setosa, dtype: int64"
      ]
     },
     "execution_count": 7,
     "metadata": {},
     "output_type": "execute_result"
    }
   ],
   "source": [
    "# After the transformation of the data set, 33% of the population belongs to Iris Setosa, meanwhile 66% dont.\n",
    "iris_data[\"iris_setosa\"].value_counts()"
   ]
  },
  {
   "cell_type": "code",
   "execution_count": 8,
   "metadata": {},
   "outputs": [],
   "source": [
    "# The column iris is not needed anymore\n",
    "iris_data.drop(columns=['iris'], inplace=True)"
   ]
  },
  {
   "cell_type": "code",
   "execution_count": 9,
   "metadata": {},
   "outputs": [],
   "source": [
    "# The next step is to transform each value to a range of [0,1]\n",
    "\n",
    "iris_values = iris_data.values\n",
    "min_max_scaler = preprocessing.MinMaxScaler()\n",
    "iris_values_scaled = min_max_scaler.fit_transform(iris_values)\n",
    "\n",
    "iris_data_scaled = pd.DataFrame(iris_values_scaled, columns=[\"sl\",\"sw\",\"pl\",\"pw\",\"iris-setosa\"])\n"
   ]
  },
  {
   "cell_type": "code",
   "execution_count": 10,
   "metadata": {},
   "outputs": [],
   "source": [
    "# Once we have all our features normalized, we'll transform them in 0-1 enconding\n",
    "# What we'll do is :\n",
    "# [0-0.25)=00\n",
    "# [0.25-0.5)=01\n",
    "# [0.5-0.75)=10\n",
    "# [0.75-1]=11\n",
    "\n",
    "iris_data_encoded=iris_data_scaled.copy()\n",
    "\n",
    "iris_data_encoded['sl_1']=False\n",
    "iris_data_encoded['sl_2']=False\n",
    "iris_data_encoded.sl_1=iris_data_encoded.sl>=0.5\n",
    "iris_data_encoded.sl_2=(iris_data_scaled.sl>=0.25) & (iris_data_scaled.sl< 0.5)\n",
    "iris_data_encoded.sl_2=iris_data_scaled.sl>=0.75\n",
    "\n",
    "iris_data_encoded['sw_1']=False\n",
    "iris_data_encoded['sw_2']=False\n",
    "iris_data_encoded.sw_1=iris_data_encoded.sw>=0.5\n",
    "iris_data_encoded.sw_2=(iris_data_scaled.sw>=0.25) & (iris_data_scaled.sw< 0.5)\n",
    "iris_data_encoded.sw_2=iris_data_scaled.sw>=0.75\n",
    "\n",
    "\n",
    "iris_data_encoded['pl_1']=False\n",
    "iris_data_encoded['pl_2']=False\n",
    "iris_data_encoded.pl_1=iris_data_encoded.pl>=0.5\n",
    "iris_data_encoded.pl_2=(iris_data_scaled.pl>=0.25) & (iris_data_scaled.pl< 0.5)\n",
    "iris_data_encoded.pl_2=iris_data_scaled.pl>=0.75\n",
    "\n",
    "iris_data_encoded['pw_1']=False\n",
    "iris_data_encoded['pw_2']=False\n",
    "iris_data_encoded.pw_1=iris_data_encoded.pw>=0.5\n",
    "iris_data_encoded.pw_2=(iris_data_scaled.pw>=0.25) & (iris_data_scaled.pw< 0.5)\n",
    "iris_data_encoded.pw_2=iris_data_scaled.pw>=0.75\n",
    "\n",
    "iris_data_encoded[\"sl_1\"] = iris_data_encoded[\"sl_1\"].astype(int)\n",
    "iris_data_encoded[\"sl_2\"] = iris_data_encoded[\"sl_2\"].astype(int)\n",
    "iris_data_encoded[\"sw_1\"] = iris_data_encoded[\"sw_1\"].astype(int)\n",
    "iris_data_encoded[\"sw_2\"] = iris_data_encoded[\"sw_2\"].astype(int)\n",
    "iris_data_encoded[\"pl_1\"] = iris_data_encoded[\"pl_1\"].astype(int)\n",
    "iris_data_encoded[\"pl_2\"] = iris_data_encoded[\"pl_2\"].astype(int)\n",
    "iris_data_encoded[\"pw_1\"] = iris_data_encoded[\"pw_1\"].astype(int)\n",
    "iris_data_encoded[\"pw_2\"] = iris_data_encoded[\"pw_2\"].astype(int)"
   ]
  },
  {
   "cell_type": "code",
   "execution_count": 36,
   "metadata": {},
   "outputs": [],
   "source": [
    "#iris_data_encoded.sort_values(by=['sl_1','sl_2','sw_1','sw_2','pl_1','pl_2','pw_1','pw_2'], ascending=False)\n",
    "iris_data_encoded=iris_data_encoded.drop_duplicates(subset=['sl_1','sl_2','sw_1','sw_2','pl_1','pl_2','pw_1','pw_2'])"
   ]
  },
  {
   "cell_type": "code",
   "execution_count": 37,
   "metadata": {},
   "outputs": [],
   "source": [
    "# Prior splitting the data set, we'll get the features and the labels apart\n",
    "feature_columns=['sl_1','sl_2','sw_1','sw_2','pl_1','pl_2','pw_1','pw_2']\n",
    "label_columns=['iris-setosa']\n",
    "\n",
    "iris_features=iris_data_encoded[feature_columns].copy()\n",
    "iris_labels=iris_data_encoded[label_columns].copy()"
   ]
  },
  {
   "cell_type": "code",
   "execution_count": 38,
   "metadata": {},
   "outputs": [],
   "source": [
    "# As final pre-transformation step, we'll split our data set in Train and Test\n",
    "# As our set has only 33% of iris-setosa, we'll use stratify to ensure our train and test sets has a real\n",
    "# representation of the population\n",
    "\n",
    "iris_features_train, iris_features_test, iris_labels_train, iris_labels_test = train_test_split(iris_features, iris_labels, stratify=iris_labels, test_size=0.20, random_state=42)"
   ]
  },
  {
   "cell_type": "code",
   "execution_count": 39,
   "metadata": {},
   "outputs": [],
   "source": [
    "# Once the full data set is scaled, we transform it to a binary encoding\n",
    "\n",
    "#THRESHOLD = 0.5\n",
    "\n",
    "#iris_features_train_bin = np.array(iris_features_train > THRESHOLD, dtype=np.float32)\n",
    "#iris_features_test_bin = np.array(iris_features_test > THRESHOLD, dtype=np.float32)\n",
    "\n",
    "iris_features_train_bin=np.array(iris_features_train, dtype=np.float32)\n",
    "iris_features_test_bin=np.array(iris_features_test, dtype=np.float32)"
   ]
  },
  {
   "cell_type": "markdown",
   "metadata": {},
   "source": [
    "## Step 3. Transform Data to Quantum Data (in Quantum Circuit)"
   ]
  },
  {
   "cell_type": "code",
   "execution_count": 40,
   "metadata": {},
   "outputs": [],
   "source": [
    "# To transform the data to our Quantum Circuit we'll adapt the function used in the MNIST example\n",
    "def convert_to_circuit(member):\n",
    "    \"\"\"Encode truncated classical member info into quantum datapoint.\"\"\"\n",
    "    qubits = cirq.GridQubit.rect(1, 8)\n",
    "    circuit = cirq.Circuit()\n",
    "    for i, value in enumerate(member):\n",
    "        if value:\n",
    "            circuit.append(cirq.X(qubits[i]))\n",
    "    return circuit\n",
    "\n",
    "\n",
    "iris_train_circ = [convert_to_circuit(x) for x in iris_features_train_bin]\n",
    "iris_test_circ = [convert_to_circuit(x) for x in iris_features_test_bin]"
   ]
  },
  {
   "cell_type": "code",
   "execution_count": 44,
   "metadata": {},
   "outputs": [
    {
     "data": {
      "image/svg+xml": [
       "<svg xmlns=\"http://www.w3.org/2000/svg\" width=\"164.49359375\" height=\"300.0\"><line x1=\"32.246796875\" x2=\"134.49359375\" y1=\"25.0\" y2=\"25.0\" stroke=\"#1967d2\" stroke-width=\"1\" /><line x1=\"32.246796875\" x2=\"134.49359375\" y1=\"75.0\" y2=\"75.0\" stroke=\"#1967d2\" stroke-width=\"1\" /><line x1=\"32.246796875\" x2=\"134.49359375\" y1=\"125.0\" y2=\"125.0\" stroke=\"#1967d2\" stroke-width=\"1\" /><line x1=\"32.246796875\" x2=\"134.49359375\" y1=\"175.0\" y2=\"175.0\" stroke=\"#1967d2\" stroke-width=\"1\" /><line x1=\"32.246796875\" x2=\"134.49359375\" y1=\"225.0\" y2=\"225.0\" stroke=\"#1967d2\" stroke-width=\"1\" /><line x1=\"32.246796875\" x2=\"134.49359375\" y1=\"275.0\" y2=\"275.0\" stroke=\"#1967d2\" stroke-width=\"1\" /><rect x=\"10.0\" y=\"5.0\" width=\"44.49359375\" height=\"40\" stroke=\"black\" fill=\"white\" stroke-width=\"0\" /><text x=\"32.246796875\" y=\"25.0\" dominant-baseline=\"middle\" text-anchor=\"middle\" font-size=\"14px\">(0, 0): </text><rect x=\"10.0\" y=\"55.0\" width=\"44.49359375\" height=\"40\" stroke=\"black\" fill=\"white\" stroke-width=\"0\" /><text x=\"32.246796875\" y=\"75.0\" dominant-baseline=\"middle\" text-anchor=\"middle\" font-size=\"14px\">(0, 1): </text><rect x=\"10.0\" y=\"105.0\" width=\"44.49359375\" height=\"40\" stroke=\"black\" fill=\"white\" stroke-width=\"0\" /><text x=\"32.246796875\" y=\"125.0\" dominant-baseline=\"middle\" text-anchor=\"middle\" font-size=\"14px\">(0, 2): </text><rect x=\"10.0\" y=\"155.0\" width=\"44.49359375\" height=\"40\" stroke=\"black\" fill=\"white\" stroke-width=\"0\" /><text x=\"32.246796875\" y=\"175.0\" dominant-baseline=\"middle\" text-anchor=\"middle\" font-size=\"14px\">(0, 4): </text><rect x=\"10.0\" y=\"205.0\" width=\"44.49359375\" height=\"40\" stroke=\"black\" fill=\"white\" stroke-width=\"0\" /><text x=\"32.246796875\" y=\"225.0\" dominant-baseline=\"middle\" text-anchor=\"middle\" font-size=\"14px\">(0, 5): </text><rect x=\"10.0\" y=\"255.0\" width=\"44.49359375\" height=\"40\" stroke=\"black\" fill=\"white\" stroke-width=\"0\" /><text x=\"32.246796875\" y=\"275.0\" dominant-baseline=\"middle\" text-anchor=\"middle\" font-size=\"14px\">(0, 6): </text><rect x=\"74.49359375\" y=\"5.0\" width=\"40\" height=\"40\" stroke=\"black\" fill=\"white\" stroke-width=\"1\" /><text x=\"94.49359375\" y=\"25.0\" dominant-baseline=\"middle\" text-anchor=\"middle\" font-size=\"18px\">X</text><rect x=\"74.49359375\" y=\"55.0\" width=\"40\" height=\"40\" stroke=\"black\" fill=\"white\" stroke-width=\"1\" /><text x=\"94.49359375\" y=\"75.0\" dominant-baseline=\"middle\" text-anchor=\"middle\" font-size=\"18px\">X</text><rect x=\"74.49359375\" y=\"105.0\" width=\"40\" height=\"40\" stroke=\"black\" fill=\"white\" stroke-width=\"1\" /><text x=\"94.49359375\" y=\"125.0\" dominant-baseline=\"middle\" text-anchor=\"middle\" font-size=\"18px\">X</text><rect x=\"74.49359375\" y=\"155.0\" width=\"40\" height=\"40\" stroke=\"black\" fill=\"white\" stroke-width=\"1\" /><text x=\"94.49359375\" y=\"175.0\" dominant-baseline=\"middle\" text-anchor=\"middle\" font-size=\"18px\">X</text><rect x=\"74.49359375\" y=\"205.0\" width=\"40\" height=\"40\" stroke=\"black\" fill=\"white\" stroke-width=\"1\" /><text x=\"94.49359375\" y=\"225.0\" dominant-baseline=\"middle\" text-anchor=\"middle\" font-size=\"18px\">X</text><rect x=\"74.49359375\" y=\"255.0\" width=\"40\" height=\"40\" stroke=\"black\" fill=\"white\" stroke-width=\"1\" /><text x=\"94.49359375\" y=\"275.0\" dominant-baseline=\"middle\" text-anchor=\"middle\" font-size=\"18px\">X</text></svg>"
      ],
      "text/plain": [
       "<cirq.contrib.svg.svg.SVGCircuit at 0x14237b2b0>"
      ]
     },
     "execution_count": 44,
     "metadata": {},
     "output_type": "execute_result"
    }
   ],
   "source": [
    "SVGCircuit(iris_train_circ[2])"
   ]
  },
  {
   "cell_type": "code",
   "execution_count": 42,
   "metadata": {},
   "outputs": [
    {
     "data": {
      "text/html": [
       "<pre style=\"overflow: auto; white-space: pre;\">(0, 0): ───X───\n",
       "\n",
       "(0, 2): ───X───\n",
       "\n",
       "(0, 4): ───X───\n",
       "\n",
       "(0, 6): ───X───\n",
       "\n",
       "(0, 7): ───X───</pre>"
      ],
      "text/plain": [
       "(0, 0): ───X───\n",
       "\n",
       "(0, 2): ───X───\n",
       "\n",
       "(0, 4): ───X───\n",
       "\n",
       "(0, 6): ───X───\n",
       "\n",
       "(0, 7): ───X───"
      ]
     },
     "execution_count": 42,
     "metadata": {},
     "output_type": "execute_result"
    }
   ],
   "source": [
    "iris_test_circ[2]"
   ]
  },
  {
   "cell_type": "markdown",
   "metadata": {},
   "source": [
    "## Step 4. Transform Quantum Circuits to Tensors"
   ]
  },
  {
   "cell_type": "code",
   "execution_count": 45,
   "metadata": {},
   "outputs": [],
   "source": [
    "# Convert the circuits to tensors we'll use in our neural networks\n",
    "iris_features_train_tfcirc = tfq.convert_to_tensor(iris_train_circ)\n",
    "iris_test_tfcirc = tfq.convert_to_tensor(iris_test_circ)"
   ]
  },
  {
   "cell_type": "code",
   "execution_count": 46,
   "metadata": {},
   "outputs": [],
   "source": [
    "# For building our Quantum Neural Network, we'll base our code in the example of Tensorflow team at:\n",
    "# https://www.tensorflow.org/quantum/tutorials/mnist \n",
    "#\n",
    "# << There is little guidance for a quantum circuit structure that classifies images. \n",
    "#    Since the classification is based on the expectation of the readout qubit, Farhi et al. \n",
    "#    propose using two qubit gates, with the readout qubit always acted upon. \n",
    "#    This is similar in some ways to running small a Unitary RNN across the pixels. >>\n",
    "#\n",
    "# As we have adapted our experiment, we'll run an adapted process from the tutorial for classifying the iris dataset\n",
    "\n",
    "class CircuitLayerBuilder():\n",
    "    def __init__(self, data_qubits, readout):\n",
    "        self.data_qubits = data_qubits\n",
    "        self.readout = readout\n",
    "    \n",
    "    def add_layer(self, circuit, gate, prefix):\n",
    "        for i, qubit in enumerate(self.data_qubits):\n",
    "            symbol = sympy.Symbol(prefix + '-' + str(i))\n",
    "            circuit.append(gate(qubit, self.readout)**symbol)\n",
    "\n"
   ]
  },
  {
   "cell_type": "code",
   "execution_count": 47,
   "metadata": {},
   "outputs": [],
   "source": [
    "# Now build a two-layered model, matching the data-circuit size, and include the preparation and readout operations.\n",
    "\n",
    "def create_quantum_model():\n",
    "    \"\"\"Create a QNN model circuit and readout operation to go along with it.\"\"\"\n",
    "    data_qubits = cirq.GridQubit.rect(1, 8)  # a 1x8 grid.\n",
    "    readout = cirq.GridQubit(-1, -1)         # a single qubit at [-1,-1]\n",
    "    circuit = cirq.Circuit()\n",
    "    \n",
    "    # Prepare the readout qubit.\n",
    "    circuit.append(cirq.X(readout))\n",
    "    circuit.append(cirq.H(readout))\n",
    "    \n",
    "    builder = CircuitLayerBuilder(\n",
    "        data_qubits = data_qubits,\n",
    "        readout=readout)\n",
    "\n",
    "    # Then add layers (experiment by adding more).\n",
    "    builder.add_layer(circuit, cirq.XX, \"xx1\")\n",
    "    builder.add_layer(circuit, cirq.ZZ, \"zz1\")\n",
    "\n",
    "    # Finally, prepare the readout qubit.\n",
    "    circuit.append(cirq.H(readout))\n",
    "\n",
    "    return circuit, cirq.Z(readout)"
   ]
  },
  {
   "cell_type": "code",
   "execution_count": 48,
   "metadata": {},
   "outputs": [],
   "source": [
    "# Get our model circuit\n",
    "model_circuit, model_readout = create_quantum_model()"
   ]
  },
  {
   "cell_type": "code",
   "execution_count": 49,
   "metadata": {},
   "outputs": [
    {
     "data": {
      "image/svg+xml": [
       "<svg xmlns=\"http://www.w3.org/2000/svg\" width=\"1851.2753125000004\" height=\"450.0\"><line x1=\"36.90890625\" x2=\"1821.2753125000004\" y1=\"25.0\" y2=\"25.0\" stroke=\"#1967d2\" stroke-width=\"1\" /><line x1=\"36.90890625\" x2=\"1821.2753125000004\" y1=\"75.0\" y2=\"75.0\" stroke=\"#1967d2\" stroke-width=\"1\" /><line x1=\"36.90890625\" x2=\"1821.2753125000004\" y1=\"125.0\" y2=\"125.0\" stroke=\"#1967d2\" stroke-width=\"1\" /><line x1=\"36.90890625\" x2=\"1821.2753125000004\" y1=\"175.0\" y2=\"175.0\" stroke=\"#1967d2\" stroke-width=\"1\" /><line x1=\"36.90890625\" x2=\"1821.2753125000004\" y1=\"225.0\" y2=\"225.0\" stroke=\"#1967d2\" stroke-width=\"1\" /><line x1=\"36.90890625\" x2=\"1821.2753125000004\" y1=\"275.0\" y2=\"275.0\" stroke=\"#1967d2\" stroke-width=\"1\" /><line x1=\"36.90890625\" x2=\"1821.2753125000004\" y1=\"325.0\" y2=\"325.0\" stroke=\"#1967d2\" stroke-width=\"1\" /><line x1=\"36.90890625\" x2=\"1821.2753125000004\" y1=\"375.0\" y2=\"375.0\" stroke=\"#1967d2\" stroke-width=\"1\" /><line x1=\"36.90890625\" x2=\"1821.2753125000004\" y1=\"425.0\" y2=\"425.0\" stroke=\"#1967d2\" stroke-width=\"1\" /><line x1=\"242.93611328125002\" x2=\"242.93611328125002\" y1=\"25.0\" y2=\"75.0\" stroke=\"black\" stroke-width=\"3\" /><line x1=\"341.17271484375\" x2=\"341.17271484375\" y1=\"25.0\" y2=\"125.0\" stroke=\"black\" stroke-width=\"3\" /><line x1=\"439.40931640625\" x2=\"439.40931640625\" y1=\"25.0\" y2=\"175.0\" stroke=\"black\" stroke-width=\"3\" /><line x1=\"537.64591796875\" x2=\"537.64591796875\" y1=\"25.0\" y2=\"225.0\" stroke=\"black\" stroke-width=\"3\" /><line x1=\"635.8825195312501\" x2=\"635.8825195312501\" y1=\"25.0\" y2=\"275.0\" stroke=\"black\" stroke-width=\"3\" /><line x1=\"734.1191210937501\" x2=\"734.1191210937501\" y1=\"25.0\" y2=\"325.0\" stroke=\"black\" stroke-width=\"3\" /><line x1=\"832.3557226562501\" x2=\"832.3557226562501\" y1=\"25.0\" y2=\"375.0\" stroke=\"black\" stroke-width=\"3\" /><line x1=\"930.5923242187502\" x2=\"930.5923242187502\" y1=\"25.0\" y2=\"425.0\" stroke=\"black\" stroke-width=\"3\" /><line x1=\"1027.93341796875\" x2=\"1027.93341796875\" y1=\"25.0\" y2=\"75.0\" stroke=\"black\" stroke-width=\"3\" /><line x1=\"1124.37900390625\" x2=\"1124.37900390625\" y1=\"25.0\" y2=\"125.0\" stroke=\"black\" stroke-width=\"3\" /><line x1=\"1220.8245898437501\" x2=\"1220.8245898437501\" y1=\"25.0\" y2=\"175.0\" stroke=\"black\" stroke-width=\"3\" /><line x1=\"1317.2701757812501\" x2=\"1317.2701757812501\" y1=\"25.0\" y2=\"225.0\" stroke=\"black\" stroke-width=\"3\" /><line x1=\"1413.7157617187502\" x2=\"1413.7157617187502\" y1=\"25.0\" y2=\"275.0\" stroke=\"black\" stroke-width=\"3\" /><line x1=\"1510.1613476562502\" x2=\"1510.1613476562502\" y1=\"25.0\" y2=\"325.0\" stroke=\"black\" stroke-width=\"3\" /><line x1=\"1606.6069335937502\" x2=\"1606.6069335937502\" y1=\"25.0\" y2=\"375.0\" stroke=\"black\" stroke-width=\"3\" /><line x1=\"1703.0525195312503\" x2=\"1703.0525195312503\" y1=\"25.0\" y2=\"425.0\" stroke=\"black\" stroke-width=\"3\" /><rect x=\"10.0\" y=\"5.0\" width=\"53.8178125\" height=\"40\" stroke=\"black\" fill=\"white\" stroke-width=\"0\" /><text x=\"36.90890625\" y=\"25.0\" dominant-baseline=\"middle\" text-anchor=\"middle\" font-size=\"14px\">(-1, -1): </text><rect x=\"10.0\" y=\"55.0\" width=\"53.8178125\" height=\"40\" stroke=\"black\" fill=\"white\" stroke-width=\"0\" /><text x=\"36.90890625\" y=\"75.0\" dominant-baseline=\"middle\" text-anchor=\"middle\" font-size=\"14px\">(0, 0): </text><rect x=\"10.0\" y=\"105.0\" width=\"53.8178125\" height=\"40\" stroke=\"black\" fill=\"white\" stroke-width=\"0\" /><text x=\"36.90890625\" y=\"125.0\" dominant-baseline=\"middle\" text-anchor=\"middle\" font-size=\"14px\">(0, 1): </text><rect x=\"10.0\" y=\"155.0\" width=\"53.8178125\" height=\"40\" stroke=\"black\" fill=\"white\" stroke-width=\"0\" /><text x=\"36.90890625\" y=\"175.0\" dominant-baseline=\"middle\" text-anchor=\"middle\" font-size=\"14px\">(0, 2): </text><rect x=\"10.0\" y=\"205.0\" width=\"53.8178125\" height=\"40\" stroke=\"black\" fill=\"white\" stroke-width=\"0\" /><text x=\"36.90890625\" y=\"225.0\" dominant-baseline=\"middle\" text-anchor=\"middle\" font-size=\"14px\">(0, 3): </text><rect x=\"10.0\" y=\"255.0\" width=\"53.8178125\" height=\"40\" stroke=\"black\" fill=\"white\" stroke-width=\"0\" /><text x=\"36.90890625\" y=\"275.0\" dominant-baseline=\"middle\" text-anchor=\"middle\" font-size=\"14px\">(0, 4): </text><rect x=\"10.0\" y=\"305.0\" width=\"53.8178125\" height=\"40\" stroke=\"black\" fill=\"white\" stroke-width=\"0\" /><text x=\"36.90890625\" y=\"325.0\" dominant-baseline=\"middle\" text-anchor=\"middle\" font-size=\"14px\">(0, 5): </text><rect x=\"10.0\" y=\"355.0\" width=\"53.8178125\" height=\"40\" stroke=\"black\" fill=\"white\" stroke-width=\"0\" /><text x=\"36.90890625\" y=\"375.0\" dominant-baseline=\"middle\" text-anchor=\"middle\" font-size=\"14px\">(0, 6): </text><rect x=\"10.0\" y=\"405.0\" width=\"53.8178125\" height=\"40\" stroke=\"black\" fill=\"white\" stroke-width=\"0\" /><text x=\"36.90890625\" y=\"425.0\" dominant-baseline=\"middle\" text-anchor=\"middle\" font-size=\"14px\">(0, 7): </text><rect x=\"83.8178125\" y=\"5.0\" width=\"40\" height=\"40\" stroke=\"black\" fill=\"white\" stroke-width=\"1\" /><text x=\"103.8178125\" y=\"25.0\" dominant-baseline=\"middle\" text-anchor=\"middle\" font-size=\"18px\">X</text><rect x=\"143.8178125\" y=\"5.0\" width=\"40\" height=\"40\" stroke=\"black\" fill=\"white\" stroke-width=\"1\" /><text x=\"163.8178125\" y=\"25.0\" dominant-baseline=\"middle\" text-anchor=\"middle\" font-size=\"18px\">H</text><rect x=\"203.8178125\" y=\"55.0\" width=\"78.2366015625\" height=\"40\" stroke=\"black\" fill=\"white\" stroke-width=\"1\" /><text x=\"242.93611328125002\" y=\"75.0\" dominant-baseline=\"middle\" text-anchor=\"middle\" font-size=\"14px\">XX^(xx1-0)</text><rect x=\"203.8178125\" y=\"5.0\" width=\"78.2366015625\" height=\"40\" stroke=\"black\" fill=\"white\" stroke-width=\"1\" /><text x=\"242.93611328125002\" y=\"25.0\" dominant-baseline=\"middle\" text-anchor=\"middle\" font-size=\"14px\">XX</text><rect x=\"302.0544140625\" y=\"105.0\" width=\"78.2366015625\" height=\"40\" stroke=\"black\" fill=\"white\" stroke-width=\"1\" /><text x=\"341.17271484375\" y=\"125.0\" dominant-baseline=\"middle\" text-anchor=\"middle\" font-size=\"14px\">XX^(xx1-1)</text><rect x=\"302.0544140625\" y=\"5.0\" width=\"78.2366015625\" height=\"40\" stroke=\"black\" fill=\"white\" stroke-width=\"1\" /><text x=\"341.17271484375\" y=\"25.0\" dominant-baseline=\"middle\" text-anchor=\"middle\" font-size=\"14px\">XX</text><rect x=\"400.291015625\" y=\"155.0\" width=\"78.2366015625\" height=\"40\" stroke=\"black\" fill=\"white\" stroke-width=\"1\" /><text x=\"439.40931640625\" y=\"175.0\" dominant-baseline=\"middle\" text-anchor=\"middle\" font-size=\"14px\">XX^(xx1-2)</text><rect x=\"400.291015625\" y=\"5.0\" width=\"78.2366015625\" height=\"40\" stroke=\"black\" fill=\"white\" stroke-width=\"1\" /><text x=\"439.40931640625\" y=\"25.0\" dominant-baseline=\"middle\" text-anchor=\"middle\" font-size=\"14px\">XX</text><rect x=\"498.5276171875\" y=\"205.0\" width=\"78.2366015625\" height=\"40\" stroke=\"black\" fill=\"white\" stroke-width=\"1\" /><text x=\"537.64591796875\" y=\"225.0\" dominant-baseline=\"middle\" text-anchor=\"middle\" font-size=\"14px\">XX^(xx1-3)</text><rect x=\"498.5276171875\" y=\"5.0\" width=\"78.2366015625\" height=\"40\" stroke=\"black\" fill=\"white\" stroke-width=\"1\" /><text x=\"537.64591796875\" y=\"25.0\" dominant-baseline=\"middle\" text-anchor=\"middle\" font-size=\"14px\">XX</text><rect x=\"596.76421875\" y=\"255.0\" width=\"78.2366015625\" height=\"40\" stroke=\"black\" fill=\"white\" stroke-width=\"1\" /><text x=\"635.8825195312501\" y=\"275.0\" dominant-baseline=\"middle\" text-anchor=\"middle\" font-size=\"14px\">XX^(xx1-4)</text><rect x=\"596.76421875\" y=\"5.0\" width=\"78.2366015625\" height=\"40\" stroke=\"black\" fill=\"white\" stroke-width=\"1\" /><text x=\"635.8825195312501\" y=\"25.0\" dominant-baseline=\"middle\" text-anchor=\"middle\" font-size=\"14px\">XX</text><rect x=\"695.0008203125001\" y=\"305.0\" width=\"78.2366015625\" height=\"40\" stroke=\"black\" fill=\"white\" stroke-width=\"1\" /><text x=\"734.1191210937501\" y=\"325.0\" dominant-baseline=\"middle\" text-anchor=\"middle\" font-size=\"14px\">XX^(xx1-5)</text><rect x=\"695.0008203125001\" y=\"5.0\" width=\"78.2366015625\" height=\"40\" stroke=\"black\" fill=\"white\" stroke-width=\"1\" /><text x=\"734.1191210937501\" y=\"25.0\" dominant-baseline=\"middle\" text-anchor=\"middle\" font-size=\"14px\">XX</text><rect x=\"793.2374218750001\" y=\"355.0\" width=\"78.2366015625\" height=\"40\" stroke=\"black\" fill=\"white\" stroke-width=\"1\" /><text x=\"832.3557226562501\" y=\"375.0\" dominant-baseline=\"middle\" text-anchor=\"middle\" font-size=\"14px\">XX^(xx1-6)</text><rect x=\"793.2374218750001\" y=\"5.0\" width=\"78.2366015625\" height=\"40\" stroke=\"black\" fill=\"white\" stroke-width=\"1\" /><text x=\"832.3557226562501\" y=\"25.0\" dominant-baseline=\"middle\" text-anchor=\"middle\" font-size=\"14px\">XX</text><rect x=\"891.4740234375001\" y=\"405.0\" width=\"78.2366015625\" height=\"40\" stroke=\"black\" fill=\"white\" stroke-width=\"1\" /><text x=\"930.5923242187502\" y=\"425.0\" dominant-baseline=\"middle\" text-anchor=\"middle\" font-size=\"14px\">XX^(xx1-7)</text><rect x=\"891.4740234375001\" y=\"5.0\" width=\"78.2366015625\" height=\"40\" stroke=\"black\" fill=\"white\" stroke-width=\"1\" /><text x=\"930.5923242187502\" y=\"25.0\" dominant-baseline=\"middle\" text-anchor=\"middle\" font-size=\"14px\">XX</text><rect x=\"989.710625\" y=\"55.0\" width=\"76.4455859375\" height=\"40\" stroke=\"black\" fill=\"white\" stroke-width=\"1\" /><text x=\"1027.93341796875\" y=\"75.0\" dominant-baseline=\"middle\" text-anchor=\"middle\" font-size=\"14px\">ZZ^(zz1-0)</text><rect x=\"989.710625\" y=\"5.0\" width=\"76.4455859375\" height=\"40\" stroke=\"black\" fill=\"white\" stroke-width=\"1\" /><text x=\"1027.93341796875\" y=\"25.0\" dominant-baseline=\"middle\" text-anchor=\"middle\" font-size=\"14px\">ZZ</text><rect x=\"1086.1562109375002\" y=\"105.0\" width=\"76.4455859375\" height=\"40\" stroke=\"black\" fill=\"white\" stroke-width=\"1\" /><text x=\"1124.37900390625\" y=\"125.0\" dominant-baseline=\"middle\" text-anchor=\"middle\" font-size=\"14px\">ZZ^(zz1-1)</text><rect x=\"1086.1562109375002\" y=\"5.0\" width=\"76.4455859375\" height=\"40\" stroke=\"black\" fill=\"white\" stroke-width=\"1\" /><text x=\"1124.37900390625\" y=\"25.0\" dominant-baseline=\"middle\" text-anchor=\"middle\" font-size=\"14px\">ZZ</text><rect x=\"1182.6017968750002\" y=\"155.0\" width=\"76.4455859375\" height=\"40\" stroke=\"black\" fill=\"white\" stroke-width=\"1\" /><text x=\"1220.8245898437501\" y=\"175.0\" dominant-baseline=\"middle\" text-anchor=\"middle\" font-size=\"14px\">ZZ^(zz1-2)</text><rect x=\"1182.6017968750002\" y=\"5.0\" width=\"76.4455859375\" height=\"40\" stroke=\"black\" fill=\"white\" stroke-width=\"1\" /><text x=\"1220.8245898437501\" y=\"25.0\" dominant-baseline=\"middle\" text-anchor=\"middle\" font-size=\"14px\">ZZ</text><rect x=\"1279.0473828125002\" y=\"205.0\" width=\"76.4455859375\" height=\"40\" stroke=\"black\" fill=\"white\" stroke-width=\"1\" /><text x=\"1317.2701757812501\" y=\"225.0\" dominant-baseline=\"middle\" text-anchor=\"middle\" font-size=\"14px\">ZZ^(zz1-3)</text><rect x=\"1279.0473828125002\" y=\"5.0\" width=\"76.4455859375\" height=\"40\" stroke=\"black\" fill=\"white\" stroke-width=\"1\" /><text x=\"1317.2701757812501\" y=\"25.0\" dominant-baseline=\"middle\" text-anchor=\"middle\" font-size=\"14px\">ZZ</text><rect x=\"1375.4929687500003\" y=\"255.0\" width=\"76.4455859375\" height=\"40\" stroke=\"black\" fill=\"white\" stroke-width=\"1\" /><text x=\"1413.7157617187502\" y=\"275.0\" dominant-baseline=\"middle\" text-anchor=\"middle\" font-size=\"14px\">ZZ^(zz1-4)</text><rect x=\"1375.4929687500003\" y=\"5.0\" width=\"76.4455859375\" height=\"40\" stroke=\"black\" fill=\"white\" stroke-width=\"1\" /><text x=\"1413.7157617187502\" y=\"25.0\" dominant-baseline=\"middle\" text-anchor=\"middle\" font-size=\"14px\">ZZ</text><rect x=\"1471.9385546875003\" y=\"305.0\" width=\"76.4455859375\" height=\"40\" stroke=\"black\" fill=\"white\" stroke-width=\"1\" /><text x=\"1510.1613476562502\" y=\"325.0\" dominant-baseline=\"middle\" text-anchor=\"middle\" font-size=\"14px\">ZZ^(zz1-5)</text><rect x=\"1471.9385546875003\" y=\"5.0\" width=\"76.4455859375\" height=\"40\" stroke=\"black\" fill=\"white\" stroke-width=\"1\" /><text x=\"1510.1613476562502\" y=\"25.0\" dominant-baseline=\"middle\" text-anchor=\"middle\" font-size=\"14px\">ZZ</text><rect x=\"1568.3841406250003\" y=\"355.0\" width=\"76.4455859375\" height=\"40\" stroke=\"black\" fill=\"white\" stroke-width=\"1\" /><text x=\"1606.6069335937502\" y=\"375.0\" dominant-baseline=\"middle\" text-anchor=\"middle\" font-size=\"14px\">ZZ^(zz1-6)</text><rect x=\"1568.3841406250003\" y=\"5.0\" width=\"76.4455859375\" height=\"40\" stroke=\"black\" fill=\"white\" stroke-width=\"1\" /><text x=\"1606.6069335937502\" y=\"25.0\" dominant-baseline=\"middle\" text-anchor=\"middle\" font-size=\"14px\">ZZ</text><rect x=\"1664.8297265625004\" y=\"405.0\" width=\"76.4455859375\" height=\"40\" stroke=\"black\" fill=\"white\" stroke-width=\"1\" /><text x=\"1703.0525195312503\" y=\"425.0\" dominant-baseline=\"middle\" text-anchor=\"middle\" font-size=\"14px\">ZZ^(zz1-7)</text><rect x=\"1664.8297265625004\" y=\"5.0\" width=\"76.4455859375\" height=\"40\" stroke=\"black\" fill=\"white\" stroke-width=\"1\" /><text x=\"1703.0525195312503\" y=\"25.0\" dominant-baseline=\"middle\" text-anchor=\"middle\" font-size=\"14px\">ZZ</text><rect x=\"1761.2753125000004\" y=\"5.0\" width=\"40\" height=\"40\" stroke=\"black\" fill=\"white\" stroke-width=\"1\" /><text x=\"1781.2753125000004\" y=\"25.0\" dominant-baseline=\"middle\" text-anchor=\"middle\" font-size=\"18px\">H</text></svg>"
      ],
      "text/plain": [
       "<cirq.contrib.svg.svg.SVGCircuit at 0x142377710>"
      ]
     },
     "execution_count": 49,
     "metadata": {},
     "output_type": "execute_result"
    }
   ],
   "source": [
    "# Lets give it a look to how our circuit looks\n",
    "SVGCircuit(model_circuit)"
   ]
  },
  {
   "cell_type": "markdown",
   "metadata": {},
   "source": [
    "## Step 5. Build our model"
   ]
  },
  {
   "cell_type": "code",
   "execution_count": 50,
   "metadata": {},
   "outputs": [],
   "source": [
    "# Build the Keras model.\n",
    "\n",
    "model = tf.keras.Sequential([\n",
    "    # The input is the data-circuit, encoded as a tf.string\n",
    "    tf.keras.layers.Input(shape=(), dtype=tf.string),\n",
    "    # The PQC layer returns the expected value of the readout gate, range [-1,1].\n",
    "    tfq.layers.PQC(model_circuit, model_readout),\n",
    "])"
   ]
  },
  {
   "cell_type": "code",
   "execution_count": 51,
   "metadata": {},
   "outputs": [],
   "source": [
    "# To use this model we'll need to transform the labels from Boolean to [-1,1]\n",
    "# Easy transfomration:\n",
    "\n",
    "iris_labels_train_hin = 2.0*iris_labels_train-1.0\n",
    "iris_labels_test_hin = 2.0*iris_labels_test-1.0"
   ]
  },
  {
   "cell_type": "code",
   "execution_count": 52,
   "metadata": {},
   "outputs": [],
   "source": [
    "# Next part of our model to adapt is the hinge function as we need a metric that works with [-1,1]\n",
    "def hinge_accuracy(y_true, y_pred):\n",
    "    y_true = tf.squeeze(y_true) > 0.0\n",
    "    y_pred = tf.squeeze(y_pred) > 0.0\n",
    "    result = tf.cast(y_true == y_pred, tf.float32)\n",
    "\n",
    "    return tf.reduce_mean(result)"
   ]
  },
  {
   "cell_type": "code",
   "execution_count": 53,
   "metadata": {},
   "outputs": [],
   "source": [
    "# Finally we compile our model and take a look to what it looks\n",
    "model.compile(\n",
    "    loss=tf.keras.losses.Hinge(),\n",
    "    optimizer=tf.keras.optimizers.Adam(),\n",
    "    metrics=[hinge_accuracy])"
   ]
  },
  {
   "cell_type": "code",
   "execution_count": 54,
   "metadata": {},
   "outputs": [
    {
     "name": "stdout",
     "output_type": "stream",
     "text": [
      "Model: \"sequential_1\"\n",
      "_________________________________________________________________\n",
      "Layer (type)                 Output Shape              Param #   \n",
      "=================================================================\n",
      "pqc_1 (PQC)                  (None, 1)                 16        \n",
      "=================================================================\n",
      "Total params: 16\n",
      "Trainable params: 16\n",
      "Non-trainable params: 0\n",
      "_________________________________________________________________\n",
      "None\n"
     ]
    }
   ],
   "source": [
    "# Quick summary of our model\n",
    "print(model.summary())"
   ]
  },
  {
   "cell_type": "markdown",
   "metadata": {},
   "source": [
    "## Step 6. Train our model"
   ]
  },
  {
   "cell_type": "code",
   "execution_count": 60,
   "metadata": {},
   "outputs": [],
   "source": [
    "# This model may take some time. \n",
    "# Using these variables we can adapt the size of the set we'll use for training (just for showcase purposes)\n",
    "\n",
    "EPOCHS = 50\n",
    "BATCH_SIZE = 32\n",
    "\n",
    "NUM_EXAMPLES = len(iris_features_train_tfcirc)"
   ]
  },
  {
   "cell_type": "code",
   "execution_count": 56,
   "metadata": {},
   "outputs": [],
   "source": [
    "# Get a subset of our sets just in case we just want to showcase the model\n",
    "# Otherwise use the full length of the set (as I did in the cell before with the len)\n",
    "iris_train_tfcirc_sub = iris_features_train_tfcirc[:NUM_EXAMPLES]\n",
    "iris_labels_hinge_sub = iris_labels_train_hin[:NUM_EXAMPLES]"
   ]
  },
  {
   "cell_type": "code",
   "execution_count": null,
   "metadata": {},
   "outputs": [
    {
     "name": "stdout",
     "output_type": "stream",
     "text": [
      "Train on 16 samples, validate on 5 samples\n",
      "Epoch 1/50\n",
      "16/16 [==============================] - 0s 3ms/sample - loss: 0.9909 - hinge_accuracy: 0.6250 - val_loss: 0.9565 - val_hinge_accuracy: 0.6000\n",
      "Epoch 2/50\n",
      "16/16 [==============================] - 0s 3ms/sample - loss: 0.9901 - hinge_accuracy: 0.6250 - val_loss: 0.9559 - val_hinge_accuracy: 0.6000\n",
      "Epoch 3/50\n",
      "16/16 [==============================] - 0s 3ms/sample - loss: 0.9892 - hinge_accuracy: 0.6250 - val_loss: 0.9553 - val_hinge_accuracy: 0.6000\n",
      "Epoch 4/50\n",
      "16/16 [==============================] - 0s 3ms/sample - loss: 0.9883 - hinge_accuracy: 0.6250 - val_loss: 0.9546 - val_hinge_accuracy: 0.6000\n",
      "Epoch 5/50\n",
      "16/16 [==============================] - 0s 4ms/sample - loss: 0.9873 - hinge_accuracy: 0.6250 - val_loss: 0.9539 - val_hinge_accuracy: 0.6000\n",
      "Epoch 6/50\n",
      "16/16 [==============================] - 0s 4ms/sample - loss: 0.9863 - hinge_accuracy: 0.6250 - val_loss: 0.9532 - val_hinge_accuracy: 0.6000\n",
      "Epoch 7/50\n",
      "16/16 [==============================] - 0s 4ms/sample - loss: 0.9854 - hinge_accuracy: 0.6250 - val_loss: 0.9525 - val_hinge_accuracy: 0.6000\n",
      "Epoch 8/50\n",
      "16/16 [==============================] - 0s 4ms/sample - loss: 0.9843 - hinge_accuracy: 0.6250 - val_loss: 0.9519 - val_hinge_accuracy: 0.6000\n",
      "Epoch 9/50\n",
      "16/16 [==============================] - 0s 4ms/sample - loss: 0.9833 - hinge_accuracy: 0.6250 - val_loss: 0.9512 - val_hinge_accuracy: 0.6000\n",
      "Epoch 10/50\n",
      "16/16 [==============================] - 0s 4ms/sample - loss: 0.9822 - hinge_accuracy: 0.6250 - val_loss: 0.9505 - val_hinge_accuracy: 0.6000\n",
      "Epoch 11/50\n",
      "16/16 [==============================] - 0s 4ms/sample - loss: 0.9811 - hinge_accuracy: 0.5625 - val_loss: 0.9498 - val_hinge_accuracy: 0.6000\n",
      "Epoch 12/50\n",
      "16/16 [==============================] - 0s 4ms/sample - loss: 0.9799 - hinge_accuracy: 0.5625 - val_loss: 0.9491 - val_hinge_accuracy: 0.6000\n",
      "Epoch 13/50\n",
      "16/16 [==============================] - 0s 4ms/sample - loss: 0.9787 - hinge_accuracy: 0.5625 - val_loss: 0.9484 - val_hinge_accuracy: 0.6000\n",
      "Epoch 14/50\n",
      "16/16 [==============================] - 0s 4ms/sample - loss: 0.9775 - hinge_accuracy: 0.5625 - val_loss: 0.9477 - val_hinge_accuracy: 0.6000\n",
      "Epoch 15/50\n",
      "16/16 [==============================] - 0s 4ms/sample - loss: 0.9763 - hinge_accuracy: 0.5625 - val_loss: 0.9471 - val_hinge_accuracy: 0.6000\n",
      "Epoch 16/50\n",
      "16/16 [==============================] - 0s 4ms/sample - loss: 0.9750 - hinge_accuracy: 0.5625 - val_loss: 0.9465 - val_hinge_accuracy: 0.6000\n",
      "Epoch 17/50\n",
      "16/16 [==============================] - 0s 4ms/sample - loss: 0.9737 - hinge_accuracy: 0.6250 - val_loss: 0.9458 - val_hinge_accuracy: 0.6000\n",
      "Epoch 18/50\n",
      "16/16 [==============================] - 0s 4ms/sample - loss: 0.9723 - hinge_accuracy: 0.5625 - val_loss: 0.9452 - val_hinge_accuracy: 0.6000\n",
      "Epoch 19/50\n",
      "16/16 [==============================] - 0s 3ms/sample - loss: 0.9709 - hinge_accuracy: 0.5625 - val_loss: 0.9446 - val_hinge_accuracy: 0.6000\n",
      "Epoch 20/50\n",
      "16/16 [==============================] - 0s 5ms/sample - loss: 0.9695 - hinge_accuracy: 0.6250 - val_loss: 0.9441 - val_hinge_accuracy: 0.6000\n",
      "Epoch 21/50\n",
      "16/16 [==============================] - 0s 4ms/sample - loss: 0.9681 - hinge_accuracy: 0.6250 - val_loss: 0.9435 - val_hinge_accuracy: 0.6000\n",
      "Epoch 22/50\n",
      "16/16 [==============================] - 0s 4ms/sample - loss: 0.9666 - hinge_accuracy: 0.6250 - val_loss: 0.9430 - val_hinge_accuracy: 0.6000\n",
      "Epoch 23/50\n",
      "16/16 [==============================] - 0s 4ms/sample - loss: 0.9650 - hinge_accuracy: 0.6250 - val_loss: 0.9425 - val_hinge_accuracy: 0.6000\n",
      "Epoch 24/50\n",
      "16/16 [==============================] - 0s 4ms/sample - loss: 0.9635 - hinge_accuracy: 0.6250 - val_loss: 0.9420 - val_hinge_accuracy: 0.6000\n",
      "Epoch 25/50\n",
      "16/16 [==============================] - 0s 4ms/sample - loss: 0.9619 - hinge_accuracy: 0.6250 - val_loss: 0.9416 - val_hinge_accuracy: 0.6000\n",
      "Epoch 26/50\n",
      "16/16 [==============================] - 0s 4ms/sample - loss: 0.9603 - hinge_accuracy: 0.6250 - val_loss: 0.9411 - val_hinge_accuracy: 0.6000\n",
      "Epoch 27/50\n",
      "16/16 [==============================] - 0s 4ms/sample - loss: 0.9586 - hinge_accuracy: 0.6250 - val_loss: 0.9407 - val_hinge_accuracy: 0.6000\n",
      "Epoch 28/50\n",
      "16/16 [==============================] - 0s 4ms/sample - loss: 0.9569 - hinge_accuracy: 0.6250 - val_loss: 0.9404 - val_hinge_accuracy: 0.6000\n",
      "Epoch 29/50\n",
      "16/16 [==============================] - 0s 4ms/sample - loss: 0.9552 - hinge_accuracy: 0.6250 - val_loss: 0.9400 - val_hinge_accuracy: 0.6000\n",
      "Epoch 30/50\n",
      "16/16 [==============================] - 0s 4ms/sample - loss: 0.9534 - hinge_accuracy: 0.6250 - val_loss: 0.9398 - val_hinge_accuracy: 0.6000\n",
      "Epoch 31/50\n",
      "16/16 [==============================] - 0s 4ms/sample - loss: 0.9516 - hinge_accuracy: 0.6250 - val_loss: 0.9395 - val_hinge_accuracy: 0.6000\n",
      "Epoch 32/50\n",
      "16/16 [==============================] - 0s 4ms/sample - loss: 0.9498 - hinge_accuracy: 0.6250 - val_loss: 0.9393 - val_hinge_accuracy: 0.6000\n",
      "Epoch 33/50\n"
     ]
    }
   ],
   "source": [
    "# Final step, we train our model and check how it looks\n",
    "qnn_history = model.fit(\n",
    "      iris_train_tfcirc_sub, iris_labels_hinge_sub,\n",
    "      batch_size=BATCH_SIZE,\n",
    "      epochs=EPOCHS,\n",
    "      verbose=1,\n",
    "      validation_data=(iris_test_tfcirc, iris_labels_test_hin))\n",
    "\n",
    "qnn_results = model.evaluate(iris_test_tfcirc, iris_labels_test_hin)"
   ]
  },
  {
   "cell_type": "code",
   "execution_count": null,
   "metadata": {},
   "outputs": [],
   "source": []
  }
 ],
 "metadata": {
  "kernelspec": {
   "display_name": "Python 3",
   "language": "python",
   "name": "python3"
  },
  "language_info": {
   "codemirror_mode": {
    "name": "ipython",
    "version": 3
   },
   "file_extension": ".py",
   "mimetype": "text/x-python",
   "name": "python",
   "nbconvert_exporter": "python",
   "pygments_lexer": "ipython3",
   "version": "3.7.3"
  }
 },
 "nbformat": 4,
 "nbformat_minor": 2
}
